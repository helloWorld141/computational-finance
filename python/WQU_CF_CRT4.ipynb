{
 "cells": [
  {
   "cell_type": "markdown",
   "metadata": {},
   "source": [
    "## Fourier Methods for Option Pricing"
   ]
  },
  {
   "cell_type": "markdown",
   "metadata": {},
   "source": [
    "We will price a European Put option using 3 methods"
   ]
  },
  {
   "cell_type": "code",
   "execution_count": 1,
   "metadata": {},
   "outputs": [],
   "source": [
    "import numpy as np\n",
    "from scipy import stats\n",
    "import matplotlib.pyplot as plt\n",
    "%matplotlib inline"
   ]
  },
  {
   "cell_type": "markdown",
   "metadata": {},
   "source": [
    "### 1. Initialize the relevant parameters"
   ]
  },
  {
   "cell_type": "code",
   "execution_count": 2,
   "metadata": {},
   "outputs": [],
   "source": [
    "# Share specific information\n",
    "r = 0.1\n",
    "S0 = 120\n",
    "sigma = 0.25\n",
    "K = 100\n",
    "T = 2\n",
    "t = 0 # when the option is priced"
   ]
  },
  {
   "cell_type": "markdown",
   "metadata": {},
   "source": [
    "### 2. Calculate the analytical price for the put option using the closed-form solution"
   ]
  },
  {
   "cell_type": "code",
   "execution_count": 3,
   "metadata": {},
   "outputs": [
    {
     "name": "stdout",
     "output_type": "stream",
     "text": [
      "Analytical price: 2.4693867508857075\n"
     ]
    }
   ],
   "source": [
    "# analytical price for comparison\n",
    "def analytic_put_price(r, sigma, S0, K, T, t=0):\n",
    "    d1 = (np.log(S0/K) + (r + sigma**2/2)*(T-t)) / (sigma*np.sqrt(T-t))\n",
    "    d2 = d1 - sigma*np.sqrt(T-t)\n",
    "\n",
    "    phi = stats.norm.cdf\n",
    "    return -S0*phi(-d1) + K*np.exp(-r*(T-t))*phi(-d2)\n",
    "\n",
    "analytic_price = analytic_put_price(r, sigma, S0, K, T)\n",
    "print(\"Analytical price: {0}\".format(analytic_price))"
   ]
  },
  {
   "cell_type": "markdown",
   "metadata": {},
   "source": [
    "### 3. Calculate the estimate for the put price using the characteristic function and technique described in note set 1"
   ]
  },
  {
   "cell_type": "code",
   "execution_count": 4,
   "metadata": {},
   "outputs": [],
   "source": [
    "# Charateristic function of a Normal random variable\n",
    "def CF(t, mu=0, s=1):\n",
    "    return np.exp(1j*t*mu - (t**2)*(s**2) / 2)\n",
    "\n",
    "def c_M1(t):\n",
    "    return CF(t, mu=np.log(S0) + (r - sigma**2/2)*T, s=sigma*np.sqrt(T))\n",
    "def c_M2(t):\n",
    "    return CF(t, mu=np.log(S0) + (r + sigma**2/2)*T, s=sigma*np.sqrt(T))"
   ]
  },
  {
   "cell_type": "code",
   "execution_count": 5,
   "metadata": {},
   "outputs": [],
   "source": [
    "# choosing t_max (upper limit of the integral) and N (the number of partitions to sum over)\n",
    "t_max = 40\n",
    "N = 200\n",
    "\n",
    "def integrate(f, l, r, N=200):\n",
    "    # calculating delta and constructing t_n\n",
    "    delta_t = (r - l) / N\n",
    "    from_1_to_N = np.linspace(1,N,N)\n",
    "    t_n = (from_1_to_N - 1/2)*delta_t\n",
    "    return np.sum(f(t_n)*delta_t)\n",
    "\n",
    "def I(f):\n",
    "    return lambda x: (np.exp(-1j*x*np.log(K))*f(x)).imag/x\n",
    "\n",
    "first_integral = integrate(I(c_M2), 0, t_max, N=N) \n",
    "second_integral = integrate(I(c_M1), 0, t_max, N=N)    "
   ]
  },
  {
   "cell_type": "code",
   "execution_count": 6,
   "metadata": {},
   "outputs": [
    {
     "name": "stdout",
     "output_type": "stream",
     "text": [
      "Fourier transform price: 2.4693867508857164\n"
     ]
    }
   ],
   "source": [
    "fourier_price = -S0*(1/2 - first_integral/np.pi) + np.exp(-r*T)*K*(1/2 - second_integral/np.pi)\n",
    "print(\"Fourier transform price: {0}\".format(fourier_price))"
   ]
  },
  {
   "cell_type": "markdown",
   "metadata": {},
   "source": [
    "### 4. Use the COS method to price the European put option. Calculate put prices for increasing upper limits on the COS method sum. Plot your results against the analytical price"
   ]
  },
  {
   "cell_type": "code",
   "execution_count": 7,
   "metadata": {},
   "outputs": [],
   "source": [
    "# define two intermediate function\n",
    "def upsilon_n(c, d, n, b1, b2):\n",
    "    npi = n*np.pi/(b2-b1)\n",
    "    npi_c = npi * (c - b1)\n",
    "    npi_d = npi * (d - b1)\n",
    "    \n",
    "    numerator = np.cos(npi_d)*np.exp(d) - np.cos(npi_c)*np.exp(c) + npi * (np.sin(npi_d) * np.exp(d) - np.sin(npi_c) * np.exp(c))\n",
    "    return numerator / (1+ npi**2)\n",
    "\n",
    "def psi_n(c, d, n, b1, b2):\n",
    "    if n==0:\n",
    "        return d-c\n",
    "    else:\n",
    "        return (b2 - b1)/(n*np.pi) * (np.sin(n*np.pi*(d - b1)/(b2 - b1)) - np.sin(n*np.pi*(c - b1)/(b2 - b1)))"
   ]
  },
  {
   "cell_type": "code",
   "execution_count": 8,
   "metadata": {},
   "outputs": [],
   "source": [
    "# intermediate integral\n",
    "def v_n(n, K, b1, b2):\n",
    "    return 2/(b2 - b1) * K * (- upsilon_n(b1, 0, n, b1, b2) + psi_n(b1, 0, n, b1, b2))\n",
    "\n",
    "def fourier_cos_put_price(r, sigma, S0, K, T, N, b1, b2):\n",
    "    mu = np.log(S0/K) + (r - sigma**2/2)*T\n",
    "    s = sigma*np.sqrt(T)\n",
    "    npi = lambda n: n*np.pi/(b2 - b1)\n",
    "    v = lambda n: v_n(n, K, b1, b2)\n",
    "    first_term = v(0)*CF(0, mu=mu, s=s)/2\n",
    "    second_term = np.sum([(CF(npi(n), mu=mu, s=s) * np.exp(-1j*b1*npi(n))).real * v(n) for n in range(1, N)])\n",
    "    return np.exp(-r*T)*(first_term + second_term).real"
   ]
  },
  {
   "cell_type": "code",
   "execution_count": 9,
   "metadata": {},
   "outputs": [],
   "source": [
    "# define the cumulants used for calculating b1 and b2\n",
    "c1 = r\n",
    "c2 = sigma**2 * T\n",
    "c4 = 0\n",
    "L = 10\n",
    "\n",
    "b1 = c1 - L*np.sqrt(c2 + np.sqrt(c4))\n",
    "b2 = c1 + L*np.sqrt(c2 + np.sqrt(c4))"
   ]
  },
  {
   "cell_type": "code",
   "execution_count": 10,
   "metadata": {},
   "outputs": [],
   "source": [
    "def logchar_func(u, S0, r, sigma, K, T):\n",
    "    return np.exp(1j*u*(np.log(S0/K) + (r-sigma**2/2)*T) - (sigma**2)*T*(u**2)/2)\n",
    "\n",
    "def put_price(N, S0, sigma, r, K, T, b2, b1):\n",
    "    price = v_n(0, K, b1, b2) * logchar_func(0, S0, r, sigma, K, T)/2\n",
    "    for n in range(1, N):\n",
    "        price += logchar_func(n*np.pi/(b2-b1), S0, r, sigma, K, T) * np.exp(-1j*n*np.pi*b1/(b2-b1)) * v_n(n, K, b1, b2)\n",
    "    return price.real * np.exp(-r*T)"
   ]
  },
  {
   "cell_type": "code",
   "execution_count": 11,
   "metadata": {},
   "outputs": [
    {
     "data": {
      "text/plain": [
       "[]"
      ]
     },
     "execution_count": 11,
     "metadata": {},
     "output_type": "execute_result"
    },
    {
     "data": {
      "image/png": "[encoded data removed]",
      "text/plain": [
       "<Figure size 432x288 with 1 Axes>"
      ]
     },
     "metadata": {
      "needs_background": "light"
     },
     "output_type": "display_data"
    }
   ],
   "source": [
    "fourier_cos_prices = [fourier_cos_put_price(r, sigma, S0, K, T, n, b1, b2) for n in range (1, 51)]\n",
    "plt.plot(fourier_cos_prices)\n",
    "plt.plot([analytic_price] * 50)\n",
    "plt.xlabel('N')\n",
    "plt.ylabel('put price')\n",
    "plt.plot()"
   ]
  },
  {
   "cell_type": "code",
   "execution_count": 12,
   "metadata": {},
   "outputs": [
    {
     "name": "stdout",
     "output_type": "stream",
     "text": [
      "Fourier COS price: 2.469386750885702\n"
     ]
    }
   ],
   "source": [
    "print(\"Fourier COS price: {0}\".format(fourier_cos_prices[-1]))"
   ]
  },
  {
   "cell_type": "markdown",
   "metadata": {},
   "source": [
    "### 5. Use the Fast Fourier Transform method to price the European put option"
   ]
  },
  {
   "cell_type": "code",
   "execution_count": 54,
   "metadata": {},
   "outputs": [],
   "source": [
    "def FFT_price (r, sigma, S0, K, T, N=2**10, delta=0.25, alpha=-2):\n",
    "    def c_func(v):\n",
    "        val1 = np.exp(-r*T) * CF(v-(alpha+1)*1j, mu=np.log(S0)+(r-sigma**2/2)*T, s=sigma*np.sqrt(T))\n",
    "        val2 = alpha**2 + alpha - v**2 + 1j*(2*alpha + 1)*v\n",
    "        return val1/val2\n",
    "    \n",
    "    n = np.array(range(N))\n",
    "    delta_k = 2*np.pi/(N*delta)\n",
    "    b = delta_k * (N-1)/2\n",
    "    \n",
    "    log_strike = np.linspace(-b, b, N)\n",
    "    \n",
    "    x = np.exp(1j*b*n*delta)*c_func(n*delta)*delta\n",
    "    x[0] = x[0]*0.5\n",
    "    x[-1] = x[-1]*0.5\n",
    "    \n",
    "    x_hat = np.fft.fft(x).real\n",
    "    fft_put = np.exp(-alpha*log_strike)*x_hat/np.pi\n",
    "    \n",
    "    return log_strike, fft_put"
   ]
  },
  {
   "cell_type": "code",
   "execution_count": 55,
   "metadata": {},
   "outputs": [],
   "source": [
    "log_strike, fft_price = FFT_price(r, sigma, S0, K, T)\n",
    "analytic_prices = np.array([analytic_put_price(r, sigma, S0, np.exp(log_strike), T)]).reshape(log_strike.shape) # since log_strike is being divided, the output's dimension is flipped"
   ]
  },
  {
   "cell_type": "code",
   "execution_count": 56,
   "metadata": {},
   "outputs": [
    {
     "data": {
      "image/png": "[encoded data removed]",
      "text/plain": [
       "<Figure size 432x288 with 1 Axes>"
      ]
     },
     "metadata": {
      "needs_background": "light"
     },
     "output_type": "display_data"
    }
   ],
   "source": [
    "plt.plot(np.exp(log_strike), analytic_prices, label=\"Analytic Price\") #LINE 1\n",
    "plt.plot(np.exp(log_strike), fft_price, label=\"FFT Price\") #LINE 2\n",
    "plt.axis([0,150,0,10]) # rescale\n",
    "plt.xlabel(\"Strike\")\n",
    "plt.ylabel(\"Put Price\")\n",
    "plt.legend(loc=\"upper right\")\n",
    "plt.show() #LINE 4"
   ]
  },
  {
   "cell_type": "code",
   "execution_count": 60,
   "metadata": {},
   "outputs": [
    {
     "data": {
      "image/png": "[encoded data removed]",
      "text/plain": [
       "<Figure size 432x288 with 1 Axes>"
      ]
     },
     "metadata": {
      "needs_background": "light"
     },
     "output_type": "display_data"
    }
   ],
   "source": [
    "plt.plot(np.exp(log_strike), np.absolute(fft_price - analytic_prices))\n",
    "plt.axis([0, 150, 0, 0.00000001])\n",
    "plt.xlabel(\"Strike\")\n",
    "plt.ylabel(\"Absolute Error\")\n",
    "plt.show()"
   ]
  },
  {
   "cell_type": "code",
   "execution_count": 61,
   "metadata": {},
   "outputs": [
    {
     "name": "stdout",
     "output_type": "stream",
     "text": [
      "Nearest strike found is: 99.6777\n",
      "FFT price at this trike is: 2.4215\n",
      "Analytical price at this trike is: 2.4215\n"
     ]
    }
   ],
   "source": [
    "K_idx = np.abs(log_strike - np.log(K)).argmin()\n",
    "print(f\"Nearest strike found is: {np.exp(log_strike[K_idx]):.4f}\")\n",
    "print(\"FFT price at this trike is: {0:.4f}\".format(fft_price[K_idx]))\n",
    "print(\"Analytical price at this trike is: {0:.4f}\".format(analytic_prices[K_idx]))"
   ]
  },
  {
   "cell_type": "markdown",
   "metadata": {},
   "source": [
    "#### Since $N=2^{10}$ is not refined enough to get as close to the strike price $K = 100$ as we want, I'll try with $N=2^{20}$"
   ]
  },
  {
   "cell_type": "code",
   "execution_count": 64,
   "metadata": {},
   "outputs": [
    {
     "name": "stdout",
     "output_type": "stream",
     "text": [
      "Nearest strike found is: 99.9995934176639\n",
      "FFT price at this trike is: 2.4693258880769022\n",
      "Analytical price at this trike is: 2.4693258870811974\n"
     ]
    }
   ],
   "source": [
    "log_strike, fft_price = FFT_price(r, sigma, S0, K, T, N=2**20)\n",
    "analytic_prices = np.array([analytic_put_price(r, sigma, S0, np.exp(log_strike), T)]).reshape(log_strike.shape) # since log_strike is being divided, the output's dimension is flipped\n",
    "K_idx = np.abs(log_strike - np.log(K)).argmin()\n",
    "print(f\"Nearest strike found is: {np.exp(log_strike[K_idx])}\")\n",
    "print(\"FFT price at this trike is: {0}\".format(fft_price[K_idx]))\n",
    "print(\"Analytical price at this trike is: {0}\".format(analytic_prices[K_idx]))"
   ]
  },
  {
   "cell_type": "markdown",
   "metadata": {},
   "source": [
    "#### Now, this is good enough !"
   ]
  },
  {
   "cell_type": "code",
   "execution_count": null,
   "metadata": {},
   "outputs": [],
   "source": []
  }
 ],
 "metadata": {
  "kernelspec": {
   "display_name": "Python 3",
   "language": "python",
   "name": "python3"
  },
  "language_info": {
   "codemirror_mode": {
    "name": "ipython",
    "version": 3
   },
   "file_extension": ".py",
   "mimetype": "text/x-python",
   "name": "python",
   "nbconvert_exporter": "python",
   "pygments_lexer": "ipython3",
   "version": "3.6.10"
  }
 },
 "nbformat": 4,
 "nbformat_minor": 4
}
