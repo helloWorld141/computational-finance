{
 "cells": [
  {
   "cell_type": "markdown",
   "metadata": {},
   "source": [
    "## Sampling methods"
   ]
  },
  {
   "cell_type": "markdown",
   "metadata": {},
   "source": [
    "### Generate random number from different distributions"
   ]
  },
  {
   "cell_type": "code",
   "execution_count": 37,
   "metadata": {},
   "outputs": [],
   "source": [
    "import numpy as np\n",
    "from scipy import stats\n",
    "import math\n",
    "import matplotlib.pyplot as plt\n",
    "%matplotlib inline"
   ]
  },
  {
   "cell_type": "code",
   "execution_count": 30,
   "metadata": {},
   "outputs": [
    {
     "name": "stdout",
     "output_type": "stream",
     "text": [
      "<class 'numpy.ndarray'>\n"
     ]
    }
   ],
   "source": [
    "# generating uniform random variables\n",
    "unif_list = stats.uniform.rvs(size = 1000)\n",
    "print(type(unif_list))"
   ]
  },
  {
   "cell_type": "code",
   "execution_count": 29,
   "metadata": {},
   "outputs": [
    {
     "data": {
      "text/plain": [
       "0.3989422804014327"
      ]
     },
     "execution_count": 29,
     "metadata": {},
     "output_type": "execute_result"
    }
   ],
   "source": [
    "norm = stats.norm\n",
    "norm.pdf(0)"
   ]
  },
  {
   "cell_type": "markdown",
   "metadata": {},
   "source": [
    "### Inverse Transform sampling\n",
    "Example: sampling from an exponential distribution.\n",
    "For $X \\sim exp(\\lambda)$, the CDF is F(x) = $1-e^{-\\lambda x}$. The technique is to to sampling values of $ u = F(x) $ from a uniform distribution, and then work backward to derive value of x for such u. So $x = F^{-1}(u) = - \\frac{1}{\\lambda} \\ln(1-u) $"
   ]
  },
  {
   "cell_type": "code",
   "execution_count": 35,
   "metadata": {},
   "outputs": [],
   "source": [
    "def inverse_exp_cdf(u, lambda_val = 1):\n",
    "    return -1/lambda_val * np.log(1-u)\n",
    "\n",
    "unif_samples = stats.uniform.rvs(size = 1000)\n",
    "exp_samples = inverse_exp_cdf(unif_samples)"
   ]
  },
  {
   "cell_type": "code",
   "execution_count": 70,
   "metadata": {},
   "outputs": [],
   "source": [
    "### let's look at the bar chart of the samples\n",
    "### divide the values into bins using numpy histogram\n",
    "def plot_samples(samples, bins=100):\n",
    "    rang = samples.max() - samples.min()\n",
    "    width = rang / bins\n",
    "    hist, bin_edges = np.histogram(samples, bins=bins)\n",
    "    if bins <= 100:\n",
    "        print(hist)\n",
    "        print(bin_edges)\n",
    "    ### actually draw the plot using pyplot bar chart\n",
    "    plt.bar(bin_edges[:-1], hist, width=width) # excluding the last element to equate the number of bins\n",
    "    plt.xlim(min(bin_edges), max(bin_edges))"
   ]
  },
  {
   "cell_type": "code",
   "execution_count": 71,
   "metadata": {},
   "outputs": [
    {
     "name": "stdout",
     "output_type": "stream",
     "text": [
      "[66 64 62 54 46 31 46 41 40 31 36 18 38 30 27 22 18 22 20 16 14 14 14 19\n",
      " 13 10 15 12  7  7 11 12  4  6 10  6  6  8  5  7  6  9  0  4  3  2  1  4\n",
      "  3  3  6  4  2  1  1  2  2  0  2  1  0  2  1  1  2  0  0  0  1  0  0  1\n",
      "  0  0  0  0  0  2  0  1  1  0  1  0  0  1  0  0  1  0  0  0  0  0  0  0\n",
      "  0  0  0  1]\n",
      "[5.00209465e-04 6.89769859e-02 1.37453762e-01 2.05930539e-01\n",
      " 2.74407315e-01 3.42884092e-01 4.11360868e-01 4.79837644e-01\n",
      " 5.48314421e-01 6.16791197e-01 6.85267974e-01 7.53744750e-01\n",
      " 8.22221526e-01 8.90698303e-01 9.59175079e-01 1.02765186e+00\n",
      " 1.09612863e+00 1.16460541e+00 1.23308218e+00 1.30155896e+00\n",
      " 1.37003574e+00 1.43851251e+00 1.50698929e+00 1.57546607e+00\n",
      " 1.64394284e+00 1.71241962e+00 1.78089640e+00 1.84937317e+00\n",
      " 1.91784995e+00 1.98632673e+00 2.05480350e+00 2.12328028e+00\n",
      " 2.19175705e+00 2.26023383e+00 2.32871061e+00 2.39718738e+00\n",
      " 2.46566416e+00 2.53414094e+00 2.60261771e+00 2.67109449e+00\n",
      " 2.73957127e+00 2.80804804e+00 2.87652482e+00 2.94500160e+00\n",
      " 3.01347837e+00 3.08195515e+00 3.15043192e+00 3.21890870e+00\n",
      " 3.28738548e+00 3.35586225e+00 3.42433903e+00 3.49281581e+00\n",
      " 3.56129258e+00 3.62976936e+00 3.69824614e+00 3.76672291e+00\n",
      " 3.83519969e+00 3.90367646e+00 3.97215324e+00 4.04063002e+00\n",
      " 4.10910679e+00 4.17758357e+00 4.24606035e+00 4.31453712e+00\n",
      " 4.38301390e+00 4.45149068e+00 4.51996745e+00 4.58844423e+00\n",
      " 4.65692101e+00 4.72539778e+00 4.79387456e+00 4.86235133e+00\n",
      " 4.93082811e+00 4.99930489e+00 5.06778166e+00 5.13625844e+00\n",
      " 5.20473522e+00 5.27321199e+00 5.34168877e+00 5.41016555e+00\n",
      " 5.47864232e+00 5.54711910e+00 5.61559588e+00 5.68407265e+00\n",
      " 5.75254943e+00 5.82102620e+00 5.88950298e+00 5.95797976e+00\n",
      " 6.02645653e+00 6.09493331e+00 6.16341009e+00 6.23188686e+00\n",
      " 6.30036364e+00 6.36884042e+00 6.43731719e+00 6.50579397e+00\n",
      " 6.57427074e+00 6.64274752e+00 6.71122430e+00 6.77970107e+00\n",
      " 6.84817785e+00]\n"
     ]
    },
    {
     "data": {
      "image/png": "[encoded data removed]",
      "text/plain": [
       "<Figure size 432x288 with 1 Axes>"
      ]
     },
     "metadata": {
      "needs_background": "light"
     },
     "output_type": "display_data"
    }
   ],
   "source": [
    "### try ploting with 100 bins\n",
    "plot_samples(exp_samples)"
   ]
  },
  {
   "cell_type": "code",
   "execution_count": 72,
   "metadata": {},
   "outputs": [
    {
     "data": {
      "image/png": "[encoded data removed]",
      "text/plain": [
       "<Figure size 432x288 with 1 Axes>"
      ]
     },
     "metadata": {
      "needs_background": "light"
     },
     "output_type": "display_data"
    }
   ],
   "source": [
    "### try ploting with more refined bins\n",
    "plot_samples(exp_samples, bins=1000)"
   ]
  },
  {
   "cell_type": "markdown",
   "metadata": {},
   "source": [
    "### Rejection sampling"
   ]
  },
  {
   "cell_type": "code",
   "execution_count": null,
   "metadata": {},
   "outputs": [],
   "source": []
  }
 ],
 "metadata": {
  "kernelspec": {
   "display_name": "Python 3",
   "language": "python",
   "name": "python3"
  },
  "language_info": {
   "codemirror_mode": {
    "name": "ipython",
    "version": 3
   },
   "file_extension": ".py",
   "mimetype": "text/x-python",
   "name": "python",
   "nbconvert_exporter": "python",
   "pygments_lexer": "ipython3",
   "version": "3.6.10"
  }
 },
 "nbformat": 4,
 "nbformat_minor": 4
}
