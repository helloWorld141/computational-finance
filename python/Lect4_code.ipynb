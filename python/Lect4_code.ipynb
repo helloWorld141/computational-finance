{
 "cells": [
  {
   "cell_type": "code",
   "execution_count": 1,
   "metadata": {},
   "outputs": [],
   "source": [
    "#importing necessary files\n",
    "import numpy as np\n",
    "from scipy.stats import norm\n",
    "import matplotlib.pyplot as plt\n",
    "\n",
    "#Market info\n",
    "r= 0.06\n",
    "\n",
    "#Share specific info\n",
    "S0 = 100\n",
    "sigma = 0.3\n",
    "\n",
    "#Put option specific info\n",
    "K = 110\n",
    "T = 1\n",
    "k_log = np.log(K)"
   ]
  },
  {
   "cell_type": "code",
   "execution_count": 2,
   "metadata": {},
   "outputs": [],
   "source": [
    "#Code for analytical solution for vanilla European put option\n",
    "d_1_stock = (np.log(S0/K)+(r + sigma**2/2)*T)/(sigma*np.sqrt(T))\n",
    "d_2_stock = d_1_stock - sigma*np.sqrt(T)\n",
    "\n",
    "analytic_callprice = S0*norm.cdf(d_1_stock) - K*np.exp(-r*T)*norm.cdf(d_2_stock)"
   ]
  },
  {
   "cell_type": "code",
   "execution_count": 3,
   "metadata": {},
   "outputs": [],
   "source": [
    "#Characteristic functions\n",
    "def c_M1(t):\n",
    "    return np.exp(1j*t*(np.log(S0)+(r-sigma**2/2)*T) - (sigma**2)*T*(t**2)/2)\n",
    "\n",
    "def c_M2(t):\n",
    "    return np.exp(1j*t*sigma**2*T)*c_M1(t)"
   ]
  },
  {
   "cell_type": "code",
   "execution_count": 4,
   "metadata": {},
   "outputs": [],
   "source": [
    "#Choosing t_max and N\n",
    "t_max = 20\n",
    "N = 100\n",
    "\n",
    "#Calculating delta and constructing t_n\n",
    "delta_t = t_max/N\n",
    "from_1_to_N = np.linspace(1,N,N)\n",
    "t_n = (from_1_to_N-1/2)*delta_t\n",
    "\n",
    "#Approximate integral estimates\n",
    "first_integral = sum((((np.exp(-1j*t_n*k_log)*c_M2(t_n)).imag)/t_n)*delta_t)\n",
    "second_integral = sum((((np.exp(-1j*t_n*k_log)*c_M1(t_n)).imag)/t_n)*delta_t)"
   ]
  },
  {
   "cell_type": "code",
   "execution_count": 5,
   "metadata": {},
   "outputs": [],
   "source": [
    "#fourier call value\n",
    "fourier_call_val = S0*(1/2+first_integral/np.pi) - np.exp(-r*T)*K*(1/2+second_integral/np.pi) \n",
    "\n",
    "#fourier put value\n",
    "fourier_put_val = np.exp(-r*T)*K*(1/2+(-second_integral)/np.pi) - S0*(1/2+(-first_integral)/np.pi)\n",
    "fourier_put_val_pcparity = fourier_call_val - S0 + np.exp(-r*T)*K "
   ]
  },
  {
   "cell_type": "code",
   "execution_count": 6,
   "metadata": {},
   "outputs": [
    {
     "name": "stdout",
     "output_type": "stream",
     "text": [
      "Call prices -- analytic and fourier\n",
      "10.424100458714285\n",
      "10.424100443080057\n"
     ]
    }
   ],
   "source": [
    "print(\"Call prices -- analytic and fourier\")\n",
    "print(analytic_callprice)\n",
    "print(fourier_call_val)"
   ]
  },
  {
   "cell_type": "code",
   "execution_count": 7,
   "metadata": {},
   "outputs": [],
   "source": [
    "#Fourier-Cosine series expansion\n",
    "\n",
    "#General functions for valuation\n",
    "def upsilon_n(b2,b1,d,c,n):\n",
    "    npi_d = np.pi*n*(d-b1)/(b2-b1)\n",
    "    npi_c = np.pi*n*(c-b1)/(b2-b1)\n",
    "    val_one = (np.cos(npi_d)*np.exp(d)-np.cos(npi_c)*np.exp(c))\n",
    "    val_two = (n*np.pi*(np.sin(npi_d)*np.exp(d)-np.sin(npi_c)*np.exp(c))/(b2-b1))\n",
    "    return (val_one + val_two)/(1+(n*np.pi/(b2-b1))**2)\n",
    "\n",
    "def psi_n(b2,b1,d,c,n):\n",
    "    if n == 0:\n",
    "        return d-c\n",
    "    else:\n",
    "        return (b2-b1)*(np.sin(n*np.pi*(d-b1)/(b2-b1))-np.sin(n*np.pi*(c-b1)/(b2-b1)))/(n*np.pi)              "
   ]
  },
  {
   "cell_type": "code",
   "execution_count": 8,
   "metadata": {},
   "outputs": [],
   "source": [
    "#Functions for call valuation\n",
    "def v_n(K,b2,b1,n):\n",
    "    return 2*K*(upsilon_n(b2,b1,b2,0,n) - psi_n(b2,b1,b2,0,n))/(b2-b1)\n",
    "\n",
    "def logchar_func(u,S0,r,sigma,K,T):\n",
    "    return np.exp(1j*u*(np.log(S0/K) + (r-sigma**2/2)*T) - (sigma**2)*T*(u**2)/2)\n",
    "\n",
    "def call_price(N,S0,sigma,r,K,T,b2,b1):\n",
    "    price = v_n(K,b2,b1,0)*logchar_func(0,S0,r,sigma,K,T)/2\n",
    "    for n in range(1,N):\n",
    "        price = price + logchar_func(n*np.pi/(b2-b1),S0,r,sigma,K,T)*np.exp(-1j*n*np.pi\n",
    "                                                                            *b1/(b2-b1))*v_n(K,b2,b1,n)\n",
    "    return price.real*np.exp(-r*T)"
   ]
  },
  {
   "cell_type": "code",
   "execution_count": 9,
   "metadata": {},
   "outputs": [],
   "source": [
    "#b1, b2 for call\n",
    "c1 = r\n",
    "c2 = T*sigma**2\n",
    "c4 = 0\n",
    "L = 10\n",
    "\n",
    "b1 = c1-L*np.sqrt(c2-np.sqrt(c4))\n",
    "b2 = c1+L*np.sqrt(c2-np.sqrt(c4))"
   ]
  },
  {
   "cell_type": "code",
   "execution_count": 10,
   "metadata": {},
   "outputs": [],
   "source": [
    "#Calculating COS for varios N\n",
    "COS_callprice = [None]*50\n",
    "\n",
    "for i in range(1,51):\n",
    "    COS_callprice[i-1] = call_price(i,S0,sigma,r,K,T,b2,b1)"
   ]
  },
  {
   "cell_type": "code",
   "execution_count": 11,
   "metadata": {},
   "outputs": [
    {
     "data": {
      "text/plain": [
       "Text(0, 0.5, 'Call price')"
      ]
     },
     "execution_count": 11,
     "metadata": {},
     "output_type": "execute_result"
    },
    {
     "data": {
      "image/png": "[encoded data removed]",
      "text/plain": [
       "<Figure size 432x288 with 1 Axes>"
      ]
     },
     "metadata": {
      "needs_background": "light"
     },
     "output_type": "display_data"
    }
   ],
   "source": [
    "#Plotting the results\n",
    "plt.plot(COS_callprice)\n",
    "plt.plot([analytic_callprice]*50)\n",
    "plt.xlabel(\"N\")\n",
    "plt.ylabel(\"Call price\")"
   ]
  },
  {
   "cell_type": "code",
   "execution_count": 12,
   "metadata": {},
   "outputs": [
    {
     "data": {
      "text/plain": [
       "1.141350998861934"
      ]
     },
     "execution_count": 12,
     "metadata": {},
     "output_type": "execute_result"
    }
   ],
   "source": [
    "v_n(K, b2, b1, 50)"
   ]
  },
  {
   "cell_type": "code",
   "execution_count": 13,
   "metadata": {},
   "outputs": [
    {
     "data": {
      "text/plain": [
       "-0.007069431827638465"
      ]
     },
     "execution_count": 13,
     "metadata": {},
     "output_type": "execute_result"
    }
   ],
   "source": [
    "upsilon_n(b2, b1, b2, 0, 50)"
   ]
  },
  {
   "cell_type": "code",
   "execution_count": null,
   "metadata": {},
   "outputs": [],
   "source": []
  }
 ],
 "metadata": {
  "kernelspec": {
   "display_name": "Python 3",
   "language": "python",
   "name": "python3"
  },
  "language_info": {
   "codemirror_mode": {
    "name": "ipython",
    "version": 3
   },
   "file_extension": ".py",
   "mimetype": "text/x-python",
   "name": "python",
   "nbconvert_exporter": "python",
   "pygments_lexer": "ipython3",
   "version": "3.6.10"
  }
 },
 "nbformat": 4,
 "nbformat_minor": 4
}
