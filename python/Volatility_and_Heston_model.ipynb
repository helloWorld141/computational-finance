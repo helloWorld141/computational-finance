{
 "cells": [
  {
   "cell_type": "markdown",
   "metadata": {},
   "source": [
    "## Non-constant Volatility and Heston Model"
   ]
  },
  {
   "cell_type": "markdown",
   "metadata": {},
   "source": [
    "### Implementing Dupire's equation for deterministic implied volatility"
   ]
  },
  {
   "cell_type": "code",
   "execution_count": 1,
   "metadata": {},
   "outputs": [],
   "source": [
    "import numpy as np\n",
    "import matplotlib.pyplot as plt\n",
    "from scipy import stats\n",
    "%matplotlib inline"
   ]
  },
  {
   "cell_type": "code",
   "execution_count": 2,
   "metadata": {},
   "outputs": [],
   "source": [
    "# share specific information\n",
    "S0 = 100\n",
    "r = 0.1\n",
    "sigma = 0.3\n",
    "T = 3\n",
    "gamma = 0.75 # power of S_t in CEV model"
   ]
  },
  {
   "cell_type": "code",
   "execution_count": 4,
   "metadata": {},
   "outputs": [],
   "source": [
    "# Analytical price for call option on a stock following CEV dynamics\n",
    "def C(S0, r, sigma, gamma, K, T):\n",
    "    kappa = 2*r / (sigma**2 * (1-gamma) * np.exp(2*r*(1-gamma)*T - 1))\n",
    "    x = kappa*S0**(2*(1-gamma)) * np.exp(2*r*(1-gamma)*T)\n",
    "    y = kappa * K**(2*(1-gamma))\n",
    "    z = 2 + 1/(1 - gamma)\n",
    "    \n",
    "    c2 = stats.ncx2.cdf # cumulative distribution function of Chi-square distribution\n",
    "    return -S0*c2(y, z, x) + K*np.exp(-r*T)*(1 - c2(x, z-2, y))"
   ]
  },
  {
   "cell_type": "code",
   "execution_count": null,
   "metadata": {},
   "outputs": [],
   "source": []
  },
  {
   "cell_type": "markdown",
   "metadata": {},
   "source": [
    "### Heston model for stochastic implied volatility"
   ]
  },
  {
   "cell_type": "code",
   "execution_count": 6,
   "metadata": {},
   "outputs": [],
   "source": [
    "# share specific information\n",
    "S0 = 100\n",
    "v0 = 0.06\n",
    "kappa = 9\n",
    "theta = 0.06\n",
    "r = 0.03\n",
    "sigma = 0.5\n",
    "rho = -0.4 # correlation between W1(Brownian motion used in share dynamics) and W2(Brownian motion used in CIR motion describing volatility term)\n",
    "\n",
    "# call option specific information\n",
    "K = 105\n",
    "T = 0.5\n",
    "k_log = np.log(K)\n",
    "\n",
    "# approximation parameters\n",
    "t_max = 30\n",
    "N = 100"
   ]
  },
  {
   "cell_type": "code",
   "execution_count": null,
   "metadata": {},
   "outputs": [],
   "source": []
  }
 ],
 "metadata": {
  "kernelspec": {
   "display_name": "Python 3",
   "language": "python",
   "name": "python3"
  },
  "language_info": {
   "codemirror_mode": {
    "name": "ipython",
    "version": 3
   },
   "file_extension": ".py",
   "mimetype": "text/x-python",
   "name": "python",
   "nbconvert_exporter": "python",
   "pygments_lexer": "ipython3",
   "version": "3.6.10"
  }
 },
 "nbformat": 4,
 "nbformat_minor": 4
}
