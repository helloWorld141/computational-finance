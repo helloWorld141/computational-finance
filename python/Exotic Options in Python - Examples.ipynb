{
 "cells": [
  {
   "cell_type": "markdown",
   "metadata": {},
   "source": [
    "# Pricing exotic options in Python"
   ]
  },
  {
   "cell_type": "markdown",
   "metadata": {},
   "source": [
    "### - Sergio Garcia, PhD"
   ]
  },
  {
   "cell_type": "markdown",
   "metadata": {},
   "source": [
    "## 1- Pricing of Average Options"
   ]
  },
  {
   "cell_type": "markdown",
   "metadata": {},
   "source": [
    "###### Exotic options are complex financial instruments which have the following features:\n",
    "###### - Non-standard underlying developed for particular investors (banks, companies, investment funds,...)\n",
    "###### - Traded over-the-counter (OTC)\n",
    "###### - Have several triggers that determine the payoffs\n",
    "###### - Are not priced (necessarilly) using standard models like the Black-Scholes-Merton model."
   ]
  },
  {
   "cell_type": "markdown",
   "metadata": {},
   "source": [
    "###### Example:"
   ]
  },
  {
   "cell_type": "markdown",
   "metadata": {},
   "source": [
    "##### The manager of an oil refinery in Mexico wants to hedge the potential oil price increases of crude oil. The financial department of the company recommends to buy an option to hedge price jumps. The company is a large consumer of oil and it is interested in the average oil price, rather than the terminal one. Therefore, the acquisition of the vanilla call option would not help, as its payoff dependes on the terminal price (and strike). The company decides to buy an average option with the following features:"
   ]
  },
  {
   "cell_type": "markdown",
   "metadata": {},
   "source": [
    "###### - An average option is a type of Asian option (a basic form of exotic options).\n",
    "###### - The payoff is determined by the average underlying price for a period of time\n",
    "###### - It is cheaper than the Europan or American options.\n",
    "###### - The variation of the average is much smaller than the terminal price.\n",
    "###### - Average can be arithmetic or geometric\n",
    "###### - These are the payoffs for an Average Asian Call and Put options:"
   ]
  },
  {
   "cell_type": "markdown",
   "metadata": {},
   "source": [
    "$ Payoff(Call) = Max(P_{average} - X, 0) \\\\\n",
    " Payoff(Put) = Max(X - P_{average}, 0)$"
   ]
  },
  {
   "cell_type": "markdown",
   "metadata": {},
   "source": [
    "###### Python program for an Asian option with arithmetic average price with the following data:"
   ]
  },
  {
   "cell_type": "code",
   "execution_count": 1,
   "metadata": {},
   "outputs": [],
   "source": [
    "import numpy as np\n",
    "import scipy as sp    # Import libraries to use"
   ]
  },
  {
   "cell_type": "code",
   "execution_count": 2,
   "metadata": {},
   "outputs": [],
   "source": [
    "s0= 40     # Today's stock price\n",
    "x= 40      # Strike/Exercise price\n",
    "T= 0.5     # Maturity (in years)\n",
    "r= 0.05    # Risk-free rate\n",
    "sigma= 0.2 # Annualized volatility"
   ]
  },
  {
   "cell_type": "code",
   "execution_count": 3,
   "metadata": {},
   "outputs": [],
   "source": [
    "n_simulation= 100 # Number of simulations and steps\n",
    "n_steps= 100\n",
    "dt= T/n_steps"
   ]
  },
  {
   "cell_type": "code",
   "execution_count": 4,
   "metadata": {},
   "outputs": [
    {
     "name": "stdout",
     "output_type": "stream",
     "text": [
      "Call price =  1.428\n"
     ]
    }
   ],
   "source": [
    "call= sp.zeros([n_simulation], dtype=float)\n",
    "for j in range(0,n_simulation):\n",
    "    sT=s0\n",
    "    total=0\n",
    "    for i in range(0,int(n_steps)):\n",
    "        e = sp.random.normal()\n",
    "        sT*= sp.exp((r-0.5*sigma**2)*dt+sigma*e*sp.sqrt(dt))\n",
    "        total+=sT\n",
    "    price_average = total/n_steps\n",
    "    call[j]=max(price_average-x,0)\n",
    "\n",
    "call_price=np.mean(call)*np.exp(-r*T)\n",
    "print('Call price = ', round(call_price,3))"
   ]
  },
  {
   "cell_type": "code",
   "execution_count": null,
   "metadata": {},
   "outputs": [],
   "source": []
  },
  {
   "cell_type": "markdown",
   "metadata": {},
   "source": [
    "## 2 - Pricing and 'up-and-out' Exotic Option"
   ]
  },
  {
   "cell_type": "markdown",
   "metadata": {},
   "source": [
    "###### An 'up-and-out' option is a type of barrier option. Specifically, the underlying price starts from below a barrier level. Once it reaches the barrier it is knocked out. The next example prices an 'up-and-out' barrier option with an European Call:"
   ]
  },
  {
   "cell_type": "code",
   "execution_count": 5,
   "metadata": {},
   "outputs": [],
   "source": [
    "import scipy as sp\n",
    "import numpy as np"
   ]
  },
  {
   "cell_type": "code",
   "execution_count": 6,
   "metadata": {},
   "outputs": [],
   "source": [
    "def bs_call(S,X,T,rf,sigma):\n",
    "    \"\"\"\n",
    "       Returns: Call value under Black-Schole-Merton option model\n",
    "       Format   : bs_call(S,X,T,r,sigma)\n",
    "               S: current stock price\n",
    "               X: exercise price\n",
    "               T: maturity date in years\n",
    "              rf: risk-free rate (continusouly compounded)\n",
    "           sigma: volatiity of underlying security \n",
    "    \"\"\"    \n",
    "    from scipy import log,exp,sqrt,stats\n",
    "    d1=(log(S/X)+(rf+sigma*sigma/2.)*T)/(sigma*sqrt(T))\n",
    "    d2 = d1-sigma*sqrt(T)\n",
    "    return S*stats.norm.cdf(d1)-X*exp(-rf*T)*stats.norm.cdf(d2)"
   ]
  },
  {
   "cell_type": "code",
   "execution_count": 8,
   "metadata": {},
   "outputs": [
    {
     "data": {
      "text/plain": [
       "4214.529275126101"
      ]
     },
     "execution_count": 8,
     "metadata": {},
     "output_type": "execute_result"
    }
   ],
   "source": [
    "def up_and_out_call(s0,x,T,r,sigma,n_simulation,barrier):\n",
    "    \"\"\"\n",
    "        Returns: Call value of an up-and-out barrier option with European call\n",
    "    \"\"\"\n",
    "    n_steps= 100 # Define number of steps.\n",
    "    dt = T/n_steps\n",
    "    total=0\n",
    "    for j in range(0,n_simulation):\n",
    "        sT=s0\n",
    "        out=False\n",
    "        for i in range(0,int(n_steps)):\n",
    "            e= sp.random.normal()\n",
    "            sT*=sp.exp((r-0.5*sigma**2)*dt+sigma*e*sp.sqrt(dt))\n",
    "            if sT>barrier:\n",
    "                out=True\n",
    "        \n",
    "        if out==False:\n",
    "            total+=bs_call(s0,x,T,r,sigma)\n",
    "    return total/n_simulation"
   ]
  },
  {
   "cell_type": "markdown",
   "metadata": {},
   "source": [
    "###### We simulate 100 times the stock movement. For each simulation, 100 steps. Once, at some point, the stock price reaches the barrier, the payoff of the option will be zero. Otherwise, the value will be that of an European call under BS. The final value will be the mean value of all call prices that are not knocked out. Let's try the results with the following data:"
   ]
  },
  {
   "cell_type": "code",
   "execution_count": 8,
   "metadata": {},
   "outputs": [],
   "source": [
    "s0= 40              # Stock price today\n",
    "x= 40               # Strike price\n",
    "barrier = 42        # Barrier level\n",
    "T= 0.5              # Maturity in years\n",
    "r=0.05              # Risk-free rate\n",
    "sigma=0.2           # Annualized volatility\n",
    "n_simulation = 100  # number of simulations"
   ]
  },
  {
   "cell_type": "code",
   "execution_count": 9,
   "metadata": {},
   "outputs": [
    {
     "name": "stdout",
     "output_type": "stream",
     "text": [
      "Price for the Up-and-out Call =  0.909\n"
     ]
    }
   ],
   "source": [
    "result = up_and_out_call(s0,x,T,r,sigma,n_simulation,barrier)\n",
    "print('Price for the Up-and-out Call = ', round(result,3))"
   ]
  },
  {
   "cell_type": "code",
   "execution_count": null,
   "metadata": {},
   "outputs": [],
   "source": []
  }
 ],
 "metadata": {
  "kernelspec": {
   "display_name": "Python 3",
   "language": "python",
   "name": "python3"
  },
  "language_info": {
   "codemirror_mode": {
    "name": "ipython",
    "version": 3
   },
   "file_extension": ".py",
   "mimetype": "text/x-python",
   "name": "python",
   "nbconvert_exporter": "python",
   "pygments_lexer": "ipython3",
   "version": "3.6.10"
  }
 },
 "nbformat": 4,
 "nbformat_minor": 4
}
