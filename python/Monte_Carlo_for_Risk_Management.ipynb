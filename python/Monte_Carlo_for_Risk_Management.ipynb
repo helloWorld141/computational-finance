{
 "cells": [
  {
   "cell_type": "markdown",
   "metadata": {},
   "source": [
    "### Credit Valuation Adjustment"
   ]
  },
  {
   "cell_type": "code",
   "execution_count": 2,
   "metadata": {},
   "outputs": [],
   "source": [
    "import numpy as np\n",
    "from scipy import stats\n",
    "import math\n",
    "import matplotlib.pyplot as plt\n",
    "%matplotlib inline"
   ]
  },
  {
   "cell_type": "code",
   "execution_count": 10,
   "metadata": {},
   "outputs": [],
   "source": [
    "### Initialize problem parameters\n",
    "# option maturity\n",
    "T = 1\n",
    "# current share price\n",
    "S0 = 100\n",
    "# strike price, at-the-money\n",
    "K = 110\n",
    "# risk-free rate\n",
    "r = .1\n",
    "# volatility\n",
    "sigma = .3\n",
    "\n",
    "# counterparty's value\n",
    "v_c = 200\n",
    "# volatility for the counterparty's firm\n",
    "sigma_c = .25\n",
    "# counterparty's debt, due in one year \n",
    "debt = 180\n",
    "# recovery rate\n",
    "delta = 0.2\n",
    "\n",
    "########\n",
    "sample_size = 50000 \n",
    "np.random.seed(0) # to compare value to lecture examples"
   ]
  },
  {
   "cell_type": "code",
   "execution_count": 23,
   "metadata": {},
   "outputs": [],
   "source": [
    "# since this is a call option, we only care about terminal value.\n",
    "# But the same can be calculated at any time point\n",
    "def value(S, r, sigma, t, Z): # applies to both firm and stock\n",
    "    return S*np.exp((r - sigma**2/2)*t + sigma*np.sqrt(t)*Z)"
   ]
  },
  {
   "cell_type": "code",
   "execution_count": 7,
   "metadata": {},
   "outputs": [],
   "source": [
    "def payoff(S_T, K): # payoff for European Call options\n",
    "    return np.maximum(S_T - K, 0)"
   ]
  },
  {
   "cell_type": "code",
   "execution_count": 24,
   "metadata": {},
   "outputs": [],
   "source": [
    "# set up different corr values\n",
    "corr_tested = np.linspace(-1, 1, 21)\n",
    "cva_estimates = []\n",
    "cva_std = []"
   ]
  },
  {
   "cell_type": "code",
   "execution_count": 25,
   "metadata": {},
   "outputs": [],
   "source": [
    "for corr in corr_tested:\n",
    "    if abs(corr) == 1: # then the matrix is not positive definite, hence cannot do Cholesky decomp.\n",
    "        norm_vec_0 = stats.norm.rvs(size = sample_size)\n",
    "        norm_vec_1 = corr * norm_vec_0\n",
    "        corr_norm_matrix = np.array([norm_vec_0, norm_vec_1])\n",
    "    else: # do Cholesky decomp.\n",
    "        corr_matrix = np.array([[1, corr], [corr, 1]])\n",
    "        norm_matrix = stats.norm.rvs(size = np.array([2, sample_size]))\n",
    "        L = np.linalg.cholesky(corr_matrix)\n",
    "        corr_norm_matrix = np.matmul(L, norm_matrix)\n",
    "    \n",
    "    stock_val = value(S0, r, sigma, T, corr_norm_matrix[0,])\n",
    "    call_val = payoff(stock_val, K)\n",
    "    \n",
    "    firm_val = value(v_c, r, sigma_c, T, corr_norm_matrix[1,])\n",
    "    amount_lost = np.exp(-r*T) * (1-delta) * (firm_val < debt) * call_val\n",
    "    \n",
    "    cva_estimates.append(np.mean(amount_lost))\n",
    "    cva_std.append(np.std(amount_lost) / np.sqrt(sample_size))"
   ]
  },
  {
   "cell_type": "code",
   "execution_count": 26,
   "metadata": {},
   "outputs": [],
   "source": [
    "# little helper function to calculate d1 and d2 in BSM\n",
    "def d1(S0, r, sigma, K, T, t=0):\n",
    "    return (np.log(S0/K) + (r + sigma**2/2)*(T-t))/ (sigma*np.sqrt(T-t))\n",
    "def d2(S0, r, sigma, K, T, t=0, d_1=None):\n",
    "    if not d_1:\n",
    "        d_1 = d1(S0, r, sigma, K, T, t)\n",
    "    return d_1 - sigma*np.sqrt(T-t)"
   ]
  },
  {
   "cell_type": "code",
   "execution_count": 27,
   "metadata": {},
   "outputs": [],
   "source": [
    "# calculate default probability\n",
    "d2_c = d2(v_c, r, sigma_c, debt, T) # at t=0\n",
    "default_prob = stats.norm.cdf(-d2_c)"
   ]
  },
  {
   "cell_type": "code",
   "execution_count": 28,
   "metadata": {},
   "outputs": [],
   "source": [
    "# calculate analytical solution for callprice at t=0\n",
    "d1_stock = d1(S0, r, sigma, K, T)\n",
    "d2_stock = d2(S0, r, sigma, K, T, d_1 = d1_stock)\n",
    "\n",
    "phi = stats.norm.cdf\n",
    "analytical_callprice = S0*phi(d1_stock) - K*np.exp(-r*T)*phi(d2_stock)"
   ]
  },
  {
   "cell_type": "code",
   "execution_count": 29,
   "metadata": {},
   "outputs": [],
   "source": [
    "# calculate CVA providing no correlation\n",
    "uncorr_cva = (1-delta)*analytical_callprice*default_prob"
   ]
  },
  {
   "cell_type": "code",
   "execution_count": 30,
   "metadata": {},
   "outputs": [
    {
     "data": {
      "image/png": "[encoded data removed]",
      "text/plain": [
       "<Figure size 432x288 with 1 Axes>"
      ]
     },
     "metadata": {
      "needs_background": "light"
     },
     "output_type": "display_data"
    }
   ],
   "source": [
    "# plotting against different values of correlations\n",
    "plt.plot(corr_tested, [uncorr_cva]*21)\n",
    "plt.plot(corr_tested, cva_estimates, '.')\n",
    "plt.plot(corr_tested, cva_estimates + 3*np.array(cva_std), 'r')\n",
    "plt.plot(corr_tested, cva_estimates - 3*np.array(cva_std), 'r')\n",
    "plt.xlabel('Correlation')\n",
    "plt.ylabel('CVA')\n",
    "plt.show()"
   ]
  }
 ],
 "metadata": {
  "kernelspec": {
   "display_name": "Python 3",
   "language": "python",
   "name": "python3"
  },
  "language_info": {
   "codemirror_mode": {
    "name": "ipython",
    "version": 3
   },
   "file_extension": ".py",
   "mimetype": "text/x-python",
   "name": "python",
   "nbconvert_exporter": "python",
   "pygments_lexer": "ipython3",
   "version": "3.6.10"
  }
 },
 "nbformat": 4,
 "nbformat_minor": 4
}
