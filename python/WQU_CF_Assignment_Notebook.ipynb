{
 "cells": [
  {
   "cell_type": "markdown",
   "metadata": {},
   "source": [
    "# Introduction to Python Programming\n",
    "## Peer Review Assignment\n",
    "\n",
    "In this assignment, you will be expected to go through the process of loading a dataset into NumPy Arrays, performing some simple operations and then using the arrays to construct Pandas Series and Dataframes with meaningful labels. Finally, you will have to plot a few graphs using matplotlib."
   ]
  },
  {
   "cell_type": "code",
   "execution_count": 2,
   "metadata": {},
   "outputs": [],
   "source": [
    "# Let's start by putting the following (completely fictional) share price lists into NumPy arrays\n",
    "\n",
    "microsoft = [120.3, 121.7, 119.8, 122.5, 123.3]\n",
    "apple = [124.1, 124.3, 124.2, 124.8, 124.3]\n",
    "facebook = [110.2, 112.4, 116.8, 115.3, 119.6]\n",
    "\n",
    "# TASK 1: Import NumPy and create arrays\n",
    "import numpy as np\n",
    "msft = np.array(microsoft)\n",
    "appl = np.array(apple)\n",
    "fb = np.array(facebook)"
   ]
  },
  {
   "cell_type": "code",
   "execution_count": 5,
   "metadata": {},
   "outputs": [
    {
     "name": "stdout",
     "output_type": "stream",
     "text": [
      "Mean values:\n",
      "Microsoft: 121.52\n",
      "Apple: 124.34\n",
      "Facebook: 114.86\n",
      "Std. deviation values:\n",
      "Microsoft: 1.31\n",
      "Apple: 0.24\n",
      "Facebook: 3.29\n",
      "% change values:\n",
      "Microsoft: 2.49%\n",
      "Apple: 0.16%\n",
      "Facebook: 8.53%\n"
     ]
    }
   ],
   "source": [
    "# Now let's use some NumPy functions to learn some interesting statistical information\n",
    "\n",
    "\n",
    "# TASK 2A: Calculate the mean share price for each company, and store in suitably named variables.\n",
    "#          Then print them out (in order - Microsoft, then Apple, then Facebook).\n",
    "print(\"Mean values:\")\n",
    "msft_mean = msft.mean()\n",
    "appl_mean = appl.mean()\n",
    "fb_mean = fb.mean()\n",
    "print(f\"Microsoft: {msft_mean:.2f}\")\n",
    "print(f\"Apple: {appl_mean:.2f}\")\n",
    "print(f\"Facebook: {fb_mean:.2f}\")\n",
    "\n",
    "# TASK 2B: Calculate the standard deviation of share prices for each company using a NumPy function,\n",
    "#          and store in suitably named variables. Then print them out (in order - Microsoft, then Apple, then Facebook).\n",
    "print(\"Std. deviation values:\")\n",
    "msft_std = msft.std()\n",
    "appl_std = appl.std()\n",
    "fb_std = fb.std()\n",
    "print(f\"Microsoft: {msft_std:.2f}\")\n",
    "print(f\"Apple: {appl_std:.2f}\")\n",
    "print(f\"Facebook: {fb_std:.2f}\")\n",
    "\n",
    "# TASK 2C: Calculate the percentage change in share price from the first price to the last price, and store \n",
    "#          in suitably named variables. Then print them out (in order - Microsoft, then Apple, then Facebook).\n",
    "print(\"% change values:\")\n",
    "msft_ret = (msft[-1] - msft[0])/msft[0]\n",
    "appl_ret = (appl[-1] - appl[0])/appl[0]\n",
    "fb_ret = (fb[-1] - fb[0])/fb[0]\n",
    "print(f\"Microsoft: {msft_ret:.2%}\")\n",
    "print(f\"Apple: {appl_ret:.2%}\")\n",
    "print(f\"Facebook: {fb_ret:.2%}\")"
   ]
  },
  {
   "cell_type": "code",
   "execution_count": 14,
   "metadata": {},
   "outputs": [
    {
     "name": "stdout",
     "output_type": "stream",
     "text": [
      "             msft   appl     fb\n",
      "Date                           \n",
      "2018-01-01  120.3  124.1  110.2\n",
      "2018-02-01  121.7  124.3  112.4\n",
      "2018-03-01  119.8  124.2  116.8\n",
      "2018-04-01  122.5  124.8  115.3\n",
      "2018-05-01  123.3  124.3  119.6\n"
     ]
    }
   ],
   "source": [
    "# Now we're going to load our NumPy arrays into a Pandas Dataframe\n",
    "# The 5 values in each company's array is the share price for the first 5 months of 2018\n",
    "\n",
    "# TASK 3: Import Pandas and load the arrays into a dataframe with appropriate row and column labels, and then\n",
    "#         output the dataframe by simply typing its variable name on a new line\n",
    "import pandas as pd\n",
    "from datetime import datetime\n",
    "first_5_months_2018 = [datetime(2018, i, 1) for i in range(1,6)]\n",
    "dt_ind = pd.DatetimeIndex(first_5_months_2018, name=\"Date\")\n",
    "prices = pd.DataFrame(np.column_stack([msft, appl, fb]), dt_ind, ['msft', 'appl', 'fb'])\n",
    "print(prices)"
   ]
  },
  {
   "cell_type": "code",
   "execution_count": 30,
   "metadata": {},
   "outputs": [
    {
     "data": {
      "text/plain": [
       "<matplotlib.axes._subplots.AxesSubplot at 0x122bef390>"
      ]
     },
     "execution_count": 30,
     "metadata": {},
     "output_type": "execute_result"
    },
    {
     "data": {
      "image/png": "[encoded data removed]",
      "text/plain": [
       "<Figure size 432x288 with 1 Axes>"
      ]
     },
     "metadata": {
      "needs_background": "light"
     },
     "output_type": "display_data"
    }
   ],
   "source": [
    "# Finally, let's draw some interesting graphs! \n",
    "# You will need to use some of the statistical values you calculated earlier in order to do this\n",
    "\n",
    "# TO DO: Import Matplotlib's Pyplot submodule\n",
    "import matplotlib.pyplot as plt\n",
    "%matplotlib inline\n",
    "\n",
    "# TASK 4A: Draw a line graph for one of the companies, showing their share prices over time, using the dataframe.\n",
    "#          Provide suitable labels. Hint: using your_dataframe_variable.loc[\"your_row_label\", :] will extract a single row.\n",
    "prices.plot(title=\"Price over first 5 months of 2018\")"
   ]
  },
  {
   "cell_type": "code",
   "execution_count": 29,
   "metadata": {},
   "outputs": [
    {
     "data": {
      "text/plain": [
       "<matplotlib.axes._subplots.AxesSubplot at 0x122b11a90>"
      ]
     },
     "execution_count": 29,
     "metadata": {},
     "output_type": "execute_result"
    },
    {
     "data": {
      "image/png": "[encoded data removed]",
      "text/plain": [
       "<Figure size 432x288 with 1 Axes>"
      ]
     },
     "metadata": {
      "needs_background": "light"
     },
     "output_type": "display_data"
    }
   ],
   "source": [
    "# TASK 4B: Draw a bar chart, using any data structure, comparing each company's value for any statistic of your choice \n",
    "#          from Task 2 (A, B or C)\n",
    "prices.mean().plot.bar(title=\"Mean values\")"
   ]
  },
  {
   "cell_type": "code",
   "execution_count": 31,
   "metadata": {},
   "outputs": [
    {
     "data": {
      "text/plain": [
       "<matplotlib.axes._subplots.AxesSubplot at 0x122cd4128>"
      ]
     },
     "execution_count": 31,
     "metadata": {},
     "output_type": "execute_result"
    },
    {
     "data": {
      "image/png": "[encoded data removed]",
      "text/plain": [
       "<Figure size 432x288 with 1 Axes>"
      ]
     },
     "metadata": {
      "needs_background": "light"
     },
     "output_type": "display_data"
    }
   ],
   "source": [
    "prices.std().plot.bar(title=\"Std. deviation values\")"
   ]
  },
  {
   "cell_type": "code",
   "execution_count": 41,
   "metadata": {},
   "outputs": [
    {
     "data": {
      "text/plain": [
       "<BarContainer object of 3 artists>"
      ]
     },
     "execution_count": 41,
     "metadata": {},
     "output_type": "execute_result"
    },
    {
     "data": {
      "image/png": "[encoded data removed]",
      "text/plain": [
       "<Figure size 432x288 with 1 Axes>"
      ]
     },
     "metadata": {
      "needs_background": "light"
     },
     "output_type": "display_data"
    }
   ],
   "source": [
    "fib, ax = plt.subplots()\n",
    "ax.set_xticks([1,2,3])\n",
    "ax.set_xticklabels(['msft', 'appl', 'fb'])\n",
    "ax.set_title('Return for the first 5 months of 2018')\n",
    "plt.bar([1,2,3], [msft_ret, appl_ret, fb_ret], width=0.45)"
   ]
  },
  {
   "cell_type": "code",
   "execution_count": null,
   "metadata": {},
   "outputs": [],
   "source": []
  }
 ],
 "metadata": {
  "kernelspec": {
   "display_name": "Python 3",
   "language": "python",
   "name": "python3"
  },
  "language_info": {
   "codemirror_mode": {
    "name": "ipython",
    "version": 3
   },
   "file_extension": ".py",
   "mimetype": "text/x-python",
   "name": "python",
   "nbconvert_exporter": "python",
   "pygments_lexer": "ipython3",
   "version": "3.6.10"
  }
 },
 "nbformat": 4,
 "nbformat_minor": 4
}
